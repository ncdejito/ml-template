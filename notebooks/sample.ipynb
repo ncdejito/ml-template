{
  "nbformat": 4,
  "nbformat_minor": 0,
  "metadata": {
    "colab": {
      "name": "Copy of ml-template-2.ipynb",
      "provenance": [],
      "collapsed_sections": [
        "7y8vRxegqVTS",
        "7cnz2gGe52ug",
        "crctYsZYqPa3",
        "S5kLDH8sxyTW",
        "joWip-Ipx1qp",
        "aRss5m_0x7KA",
        "_e75fWTByCNk"
      ],
      "toc_visible": true
    },
    "kernelspec": {
      "name": "python3",
      "display_name": "Python 3"
    }
  },
  "cells": [
    {
      "cell_type": "markdown",
      "metadata": {
        "id": "WsW-dUv9_xpt"
      },
      "source": [
        "# ml-template-2"
      ]
    },
    {
      "cell_type": "markdown",
      "metadata": {
        "id": "sd7epNGrJI15"
      },
      "source": [
        "This notebook serves as a template for common traditional ML workflows.\n",
        "\n",
        "**How to Use**\n",
        "1. In Load data, input location of raw csv file.\n",
        "1. Set target column name in section Main.\n",
        "1. Edit preprocessing steps in preprocessing_workflow() in scripts/data_prep.py. If no preprocessing, set as_is=True in section Main/Prep data\n",
        "\n",
        "**Principles**\n",
        "1. extensible\n",
        "1. easy to use\n",
        "1. fits to sklearn paradigm\n"
      ]
    },
    {
      "cell_type": "code",
      "metadata": {
        "id": "VO88ZMIRit1v"
      },
      "source": [
        "target = 'target'"
      ],
      "execution_count": null,
      "outputs": []
    },
    {
      "cell_type": "markdown",
      "metadata": {
        "id": "W8_I5EmkIr-F"
      },
      "source": [
        "## Imports"
      ]
    },
    {
      "cell_type": "code",
      "metadata": {
        "id": "fYAiSUtFIs5c",
        "colab": {
          "base_uri": "https://localhost:8080/"
        },
        "outputId": "8e61f802-d37f-4e4c-b13d-2aa2e898c292"
      },
      "source": [
        "import pandas as pd\n",
        "from sklearn.pipeline import Pipeline\n",
        "\n",
        "import sys\n",
        "sys.path.insert(0,'../scripts/')\n",
        "\n",
        "# from importlib import reload\n",
        "# reload(sys.modules['settings'])\n",
        "# reload(sys.modules['data_prep'])\n",
        "# reload(sys.modules['eda'])\n",
        "# reload(sys.modules['modelling'])"
      ],
      "execution_count": null,
      "outputs": [
        {
          "output_type": "execute_result",
          "data": {
            "text/plain": [
              "<module 'modelling' from 'scripts/modelling.py'>"
            ]
          },
          "metadata": {
            "tags": []
          },
          "execution_count": 541
        }
      ]
    },
    {
      "cell_type": "markdown",
      "metadata": {
        "id": "4l8GxUjLqTmm"
      },
      "source": [
        "## Load data"
      ]
    },
    {
      "cell_type": "code",
      "metadata": {
        "id": "fpn8AKkD3nT1",
        "colab": {
          "base_uri": "https://localhost:8080/",
          "height": 155
        },
        "outputId": "eac6d5e5-0fc9-4ffa-c65a-21dc2c05e45a"
      },
      "source": [
        "from sklearn.datasets import load_boston, load_diabetes\n",
        "import numpy as np\n",
        "\n",
        "data = load_boston()\n",
        "raw = pd.DataFrame(data.data, columns=data.feature_names)\n",
        "raw['target'] = pd.Series(data.target)\n",
        "print(raw.shape)\n",
        "raw.head(3)"
      ],
      "execution_count": null,
      "outputs": [
        {
          "output_type": "stream",
          "text": [
            "(506, 14)\n"
          ],
          "name": "stdout"
        },
        {
          "output_type": "execute_result",
          "data": {
            "text/html": [
              "<div>\n",
              "<style scoped>\n",
              "    .dataframe tbody tr th:only-of-type {\n",
              "        vertical-align: middle;\n",
              "    }\n",
              "\n",
              "    .dataframe tbody tr th {\n",
              "        vertical-align: top;\n",
              "    }\n",
              "\n",
              "    .dataframe thead th {\n",
              "        text-align: right;\n",
              "    }\n",
              "</style>\n",
              "<table border=\"1\" class=\"dataframe\">\n",
              "  <thead>\n",
              "    <tr style=\"text-align: right;\">\n",
              "      <th></th>\n",
              "      <th>CRIM</th>\n",
              "      <th>ZN</th>\n",
              "      <th>INDUS</th>\n",
              "      <th>CHAS</th>\n",
              "      <th>NOX</th>\n",
              "      <th>RM</th>\n",
              "      <th>AGE</th>\n",
              "      <th>DIS</th>\n",
              "      <th>RAD</th>\n",
              "      <th>TAX</th>\n",
              "      <th>PTRATIO</th>\n",
              "      <th>B</th>\n",
              "      <th>LSTAT</th>\n",
              "      <th>target</th>\n",
              "    </tr>\n",
              "  </thead>\n",
              "  <tbody>\n",
              "    <tr>\n",
              "      <th>0</th>\n",
              "      <td>0.00632</td>\n",
              "      <td>18.0</td>\n",
              "      <td>2.31</td>\n",
              "      <td>0.0</td>\n",
              "      <td>0.538</td>\n",
              "      <td>6.575</td>\n",
              "      <td>65.2</td>\n",
              "      <td>4.0900</td>\n",
              "      <td>1.0</td>\n",
              "      <td>296.0</td>\n",
              "      <td>15.3</td>\n",
              "      <td>396.90</td>\n",
              "      <td>4.98</td>\n",
              "      <td>24.0</td>\n",
              "    </tr>\n",
              "    <tr>\n",
              "      <th>1</th>\n",
              "      <td>0.02731</td>\n",
              "      <td>0.0</td>\n",
              "      <td>7.07</td>\n",
              "      <td>0.0</td>\n",
              "      <td>0.469</td>\n",
              "      <td>6.421</td>\n",
              "      <td>78.9</td>\n",
              "      <td>4.9671</td>\n",
              "      <td>2.0</td>\n",
              "      <td>242.0</td>\n",
              "      <td>17.8</td>\n",
              "      <td>396.90</td>\n",
              "      <td>9.14</td>\n",
              "      <td>21.6</td>\n",
              "    </tr>\n",
              "    <tr>\n",
              "      <th>2</th>\n",
              "      <td>0.02729</td>\n",
              "      <td>0.0</td>\n",
              "      <td>7.07</td>\n",
              "      <td>0.0</td>\n",
              "      <td>0.469</td>\n",
              "      <td>7.185</td>\n",
              "      <td>61.1</td>\n",
              "      <td>4.9671</td>\n",
              "      <td>2.0</td>\n",
              "      <td>242.0</td>\n",
              "      <td>17.8</td>\n",
              "      <td>392.83</td>\n",
              "      <td>4.03</td>\n",
              "      <td>34.7</td>\n",
              "    </tr>\n",
              "  </tbody>\n",
              "</table>\n",
              "</div>"
            ],
            "text/plain": [
              "      CRIM    ZN  INDUS  CHAS    NOX  ...    TAX  PTRATIO       B  LSTAT  target\n",
              "0  0.00632  18.0   2.31   0.0  0.538  ...  296.0     15.3  396.90   4.98    24.0\n",
              "1  0.02731   0.0   7.07   0.0  0.469  ...  242.0     17.8  396.90   9.14    21.6\n",
              "2  0.02729   0.0   7.07   0.0  0.469  ...  242.0     17.8  392.83   4.03    34.7\n",
              "\n",
              "[3 rows x 14 columns]"
            ]
          },
          "metadata": {
            "tags": []
          },
          "execution_count": 542
        }
      ]
    },
    {
      "cell_type": "markdown",
      "metadata": {
        "id": "7y8vRxegqVTS"
      },
      "source": [
        "## Prep data"
      ]
    },
    {
      "cell_type": "code",
      "metadata": {
        "id": "9R7VcOEshKSR",
        "colab": {
          "base_uri": "https://localhost:8080/",
          "height": 125
        },
        "outputId": "cc5a8501-9540-4513-c6f4-cc9fbaf2eae7"
      },
      "source": [
        "from data_prep import preprocess\n",
        "df = preprocess(raw, target = target, as_is = True)\n",
        "df.head(2)"
      ],
      "execution_count": null,
      "outputs": [
        {
          "output_type": "stream",
          "text": [
            "Set problem_type to regression.\n"
          ],
          "name": "stdout"
        },
        {
          "output_type": "execute_result",
          "data": {
            "text/html": [
              "<div>\n",
              "<style scoped>\n",
              "    .dataframe tbody tr th:only-of-type {\n",
              "        vertical-align: middle;\n",
              "    }\n",
              "\n",
              "    .dataframe tbody tr th {\n",
              "        vertical-align: top;\n",
              "    }\n",
              "\n",
              "    .dataframe thead th {\n",
              "        text-align: right;\n",
              "    }\n",
              "</style>\n",
              "<table border=\"1\" class=\"dataframe\">\n",
              "  <thead>\n",
              "    <tr style=\"text-align: right;\">\n",
              "      <th></th>\n",
              "      <th>CRIM</th>\n",
              "      <th>ZN</th>\n",
              "      <th>INDUS</th>\n",
              "      <th>CHAS</th>\n",
              "      <th>NOX</th>\n",
              "      <th>RM</th>\n",
              "      <th>AGE</th>\n",
              "      <th>DIS</th>\n",
              "      <th>RAD</th>\n",
              "      <th>TAX</th>\n",
              "      <th>PTRATIO</th>\n",
              "      <th>B</th>\n",
              "      <th>LSTAT</th>\n",
              "      <th>target</th>\n",
              "    </tr>\n",
              "  </thead>\n",
              "  <tbody>\n",
              "    <tr>\n",
              "      <th>0</th>\n",
              "      <td>0.00632</td>\n",
              "      <td>18.0</td>\n",
              "      <td>2.31</td>\n",
              "      <td>0.0</td>\n",
              "      <td>0.538</td>\n",
              "      <td>6.575</td>\n",
              "      <td>65.2</td>\n",
              "      <td>4.0900</td>\n",
              "      <td>1.0</td>\n",
              "      <td>296.0</td>\n",
              "      <td>15.3</td>\n",
              "      <td>396.9</td>\n",
              "      <td>4.98</td>\n",
              "      <td>24.0</td>\n",
              "    </tr>\n",
              "    <tr>\n",
              "      <th>1</th>\n",
              "      <td>0.02731</td>\n",
              "      <td>0.0</td>\n",
              "      <td>7.07</td>\n",
              "      <td>0.0</td>\n",
              "      <td>0.469</td>\n",
              "      <td>6.421</td>\n",
              "      <td>78.9</td>\n",
              "      <td>4.9671</td>\n",
              "      <td>2.0</td>\n",
              "      <td>242.0</td>\n",
              "      <td>17.8</td>\n",
              "      <td>396.9</td>\n",
              "      <td>9.14</td>\n",
              "      <td>21.6</td>\n",
              "    </tr>\n",
              "  </tbody>\n",
              "</table>\n",
              "</div>"
            ],
            "text/plain": [
              "      CRIM    ZN  INDUS  CHAS    NOX  ...    TAX  PTRATIO      B  LSTAT  target\n",
              "0  0.00632  18.0   2.31   0.0  0.538  ...  296.0     15.3  396.9   4.98    24.0\n",
              "1  0.02731   0.0   7.07   0.0  0.469  ...  242.0     17.8  396.9   9.14    21.6\n",
              "\n",
              "[2 rows x 14 columns]"
            ]
          },
          "metadata": {
            "tags": []
          },
          "execution_count": 543
        }
      ]
    },
    {
      "cell_type": "code",
      "metadata": {
        "id": "l62GBsfza4-X",
        "colab": {
          "base_uri": "https://localhost:8080/"
        },
        "outputId": "7c513277-4bd3-456a-b3b4-2809fc77d289"
      },
      "source": [
        "!cat scripts/settings.py"
      ],
      "execution_count": null,
      "outputs": [
        {
          "output_type": "stream",
          "text": [
            "\n",
            "# Data prep parameters ----\n",
            "target = 'target'\n",
            "categorical_features = []\n",
            "numerical_features = ['LSTAT', 'PTRATIO', 'DIS', 'RM', 'TAX', 'NOX', 'CHAS', 'B', 'INDUS', 'CRIM', 'AGE', 'RAD', 'ZN']\n",
            "features = categorical_features + numerical_features\n",
            "problem_type = 'regression'\n",
            "\n",
            "CAT_FILL = \"Missing\"\n",
            "NUM_FILL = 0\n",
            "\n",
            "SEED = 42\n",
            "\n",
            "\n",
            "# Modelling parameters ----\n",
            "\n",
            "import numpy as np\n",
            "\n",
            "# Number of trees in random forest\n",
            "n_estimators = [int(x) for x in np.linspace(start = 10, stop = 100, num = 10)]\n",
            "# Number of features to consider at every split\n",
            "max_features = ['auto', 'log2']\n",
            "# Criterion for split importance: Gini impurity or information gain\n",
            "if problem_type == 'classification':\n",
            "    criterion = ['gini', 'entropy']\n",
            "else:\n",
            "    criterion = ['mse']\n",
            "# Maximum number of levels in tree\n",
            "max_depth = [int(x) for x in np.linspace(10, 110, num = 11)]\n",
            "max_depth.append(None)\n",
            "# Minimum number of samples required to split a node\n",
            "min_samples_split = [2, 5, 10]\n",
            "# Minimum number of samples required at each leaf node\n",
            "min_samples_leaf = [1, 2, 4]\n",
            "# Method of selecting samples for training each tree\n",
            "bootstrap = [True, False]\n",
            "\n",
            "# Create the random grid\n",
            "random_grid = {'classifier__n_estimators': n_estimators,\n",
            "               'classifier__criterion': criterion,\n",
            "               'classifier__max_features': max_features,\n",
            "               'classifier__max_depth': max_depth,\n",
            "               'classifier__min_samples_split': min_samples_split,\n",
            "               'classifier__min_samples_leaf': min_samples_leaf,\n",
            "               'classifier__bootstrap': bootstrap}\n",
            "\n",
            "\n"
          ],
          "name": "stdout"
        }
      ]
    },
    {
      "cell_type": "markdown",
      "metadata": {
        "id": "7cnz2gGe52ug"
      },
      "source": [
        "## Explore Data"
      ]
    },
    {
      "cell_type": "code",
      "metadata": {
        "id": "rh-x3ksF54RR"
      },
      "source": [
        "from eda import check_nulls_and_outliers, correlations_to_label"
      ],
      "execution_count": null,
      "outputs": []
    },
    {
      "cell_type": "code",
      "metadata": {
        "id": "C8ii72ynHEGi",
        "colab": {
          "base_uri": "https://localhost:8080/"
        },
        "outputId": "e454a0ec-2fb5-4229-cdac-28e7f837024c"
      },
      "source": [
        "check_nulls_and_outliers(df)"
      ],
      "execution_count": null,
      "outputs": [
        {
          "output_type": "stream",
          "text": [
            "Total rows: 506\n",
            "Variables with missing values:\n",
            "Empty DataFrame\n",
            "Columns: [count, mean, std, min, max]\n",
            "Index: []\n",
            "Variables with outliers:\n"
          ],
          "name": "stdout"
        },
        {
          "output_type": "display_data",
          "data": {
            "image/png": "[encoded data removed]",
            "text/plain": [
              "<Figure size 864x288 with 1 Axes>"
            ]
          },
          "metadata": {
            "tags": [],
            "needs_background": "light"
          }
        }
      ]
    },
    {
      "cell_type": "code",
      "metadata": {
        "id": "fG2zVJrKBa8n"
      },
      "source": [
        "# correlations_to_label(df, label = target)"
      ],
      "execution_count": null,
      "outputs": []
    },
    {
      "cell_type": "markdown",
      "metadata": {
        "id": "crctYsZYqPa3"
      },
      "source": [
        "## Model"
      ]
    },
    {
      "cell_type": "code",
      "metadata": {
        "id": "o6s_hrN_EuwT"
      },
      "source": [
        "from modelling import get_best_model, train, predict, evaluate, clfs"
      ],
      "execution_count": null,
      "outputs": []
    },
    {
      "cell_type": "markdown",
      "metadata": {
        "id": "S5kLDH8sxyTW"
      },
      "source": [
        "### Split train test"
      ]
    },
    {
      "cell_type": "code",
      "metadata": {
        "id": "iGcZpfpVaga4"
      },
      "source": [
        "df = df.sample(frac = 1, random_state = 42)\n",
        "train_df = df.iloc[0:500,]\n",
        "test_df = df.iloc[-100:,]"
      ],
      "execution_count": null,
      "outputs": []
    },
    {
      "cell_type": "markdown",
      "metadata": {
        "id": "joWip-Ipx1qp"
      },
      "source": [
        "### Fit 1 split model"
      ]
    },
    {
      "cell_type": "code",
      "metadata": {
        "id": "qwpkUgnzhvYR",
        "colab": {
          "base_uri": "https://localhost:8080/"
        },
        "outputId": "6de9281b-73ee-4100-e6fe-dfa282428d19"
      },
      "source": [
        "clf = clfs[0]\n",
        "print(clf)\n",
        "clf = train(clf, train_df, train_size = 0.8)"
      ],
      "execution_count": null,
      "outputs": [
        {
          "output_type": "stream",
          "text": [
            "RandomForestRegressor(bootstrap=True, ccp_alpha=0.0, criterion='mse',\n",
            "                      max_depth=None, max_features='auto', max_leaf_nodes=None,\n",
            "                      max_samples=None, min_impurity_decrease=0.0,\n",
            "                      min_impurity_split=None, min_samples_leaf=1,\n",
            "                      min_samples_split=2, min_weight_fraction_leaf=0.0,\n",
            "                      n_estimators=100, n_jobs=None, oob_score=False,\n",
            "                      random_state=42, verbose=0, warm_start=False)\n",
            "Model results on validation set:\n",
            "{'correlation': 0.9383753166094442, 'r2': 0.8805482348218746, 'mae': 2.258479999999999, 'rmse': 3.389151156263171}\n",
            "Saved model file to model.pkl\n"
          ],
          "name": "stdout"
        }
      ]
    },
    {
      "cell_type": "markdown",
      "metadata": {
        "id": "aRss5m_0x7KA"
      },
      "source": [
        "### Cross validate across multiple splits"
      ]
    },
    {
      "cell_type": "code",
      "metadata": {
        "id": "hNBN_ddDMkP1"
      },
      "source": [
        "# clf = get_best_model(train_df)\n",
        "# print(clf)"
      ],
      "execution_count": null,
      "outputs": []
    },
    {
      "cell_type": "markdown",
      "metadata": {
        "id": "_e75fWTByCNk"
      },
      "source": [
        "## Predict"
      ]
    },
    {
      "cell_type": "code",
      "metadata": {
        "id": "cOpEdVv0BfuR",
        "colab": {
          "base_uri": "https://localhost:8080/"
        },
        "outputId": "ce898c71-4035-4fd4-b13a-eb92a37a7dca"
      },
      "source": [
        "y_pred = predict(test_df, clf)\n",
        "y_true = test_df[target]\n",
        "evaluate(y_true, y_pred)"
      ],
      "execution_count": null,
      "outputs": [
        {
          "output_type": "execute_result",
          "data": {
            "text/plain": [
              "{'correlation': 0.987754060222426,\n",
              " 'mae': 0.9077799999999988,\n",
              " 'r2': 0.9756580834858879,\n",
              " 'rmse': 1.3584796943642525}"
            ]
          },
          "metadata": {
            "tags": []
          },
          "execution_count": 552
        }
      ]
    },
    {
      "cell_type": "code",
      "metadata": {
        "id": "cfKtUcbpbupk"
      },
      "source": [
        ""
      ],
      "execution_count": null,
      "outputs": []
    },
    {
      "cell_type": "code",
      "metadata": {
        "id": "NalHgJigAGqW"
      },
      "source": [
        ""
      ],
      "execution_count": null,
      "outputs": []
    }
  ]
}